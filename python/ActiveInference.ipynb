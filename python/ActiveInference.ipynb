{
 "cells": [
  {
   "cell_type": "markdown",
   "id": "ae992a15",
   "metadata": {},
   "source": [
    "# Active Inference book"
   ]
  },
  {
   "cell_type": "markdown",
   "id": "84878b6e",
   "metadata": {},
   "source": [
    "##  Mostly coding stuff will appear here"
   ]
  },
  {
   "cell_type": "code",
   "execution_count": null,
   "id": "7478dd6a",
   "metadata": {},
   "outputs": [],
   "source": []
  }
 ],
 "metadata": {
  "language_info": {
   "name": "python"
  }
 },
 "nbformat": 4,
 "nbformat_minor": 5
}
