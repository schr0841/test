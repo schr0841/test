{
 "cells": [
  {
   "cell_type": "markdown",
   "id": "ae992a15",
   "metadata": {},
   "source": [
    "# Active Inference book\n",
    "\n",
    "## Thomas Parr Giovanni Pezzulo_ Karl J_ Friston -- 2022 -- MIT Press"
   ]
  },
  {
   "cell_type": "markdown",
   "id": "84878b6e",
   "metadata": {},
   "source": [
    "##  Mostly coding stuff will appear here"
   ]
  },
  {
   "cell_type": "code",
   "execution_count": null,
   "id": "7478dd6a",
   "metadata": {},
   "outputs": [],
   "source": [
    "# Each chapter?  maybe there are only a few examples"
   ]
  },
  {
   "cell_type": "code",
   "execution_count": null,
   "id": "552abd26",
   "metadata": {},
   "outputs": [],
   "source": []
  }
 ],
 "metadata": {
  "language_info": {
   "name": "python"
  }
 },
 "nbformat": 4,
 "nbformat_minor": 5
}
