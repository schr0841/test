{
 "cells": [
  {
   "cell_type": "markdown",
   "id": "b2a51051",
   "metadata": {},
   "source": [
    "# Test function"
   ]
  },
  {
   "cell_type": "markdown",
   "id": "4c36eb26",
   "metadata": {},
   "source": [
    "Eventually I hope to be able to write an article about the topics I learned about doing that assessment. A lot of text wrangling but it was fun and interesting!"
   ]
  },
  {
   "cell_type": "markdown",
   "id": "30227266",
   "metadata": {},
   "source": [
    "Further topics to look into:\n",
    "\n",
    "* Analysis of Unstructured Data\n",
    "* Categorical Data Analysis\n",
    "* Survey Data Analysis\n"
   ]
  },
  {
   "cell_type": "markdown",
   "id": "e268b114",
   "metadata": {},
   "source": [
    "# Outline for tomorrow\n",
    "\n"
   ]
  },
  {
   "cell_type": "code",
   "execution_count": null,
   "id": "f4552553",
   "metadata": {},
   "outputs": [],
   "source": []
  }
 ],
 "metadata": {
  "language_info": {
   "name": "python"
  }
 },
 "nbformat": 4,
 "nbformat_minor": 5
}
