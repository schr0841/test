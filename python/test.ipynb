{
 "cells": [
  {
   "cell_type": "markdown",
   "id": "b2a51051",
   "metadata": {},
   "source": [
    "# Test function"
   ]
  },
  {
   "cell_type": "markdown",
   "id": "4c36eb26",
   "metadata": {},
   "source": [
    "Eventually I hope to be able to write an article about the topics I learned about doing that assessment. A lot of text wrangling but it was fun and interesting!"
   ]
  },
  {
   "cell_type": "code",
   "execution_count": null,
   "id": "f4552553",
   "metadata": {},
   "outputs": [],
   "source": []
  }
 ],
 "metadata": {
  "language_info": {
   "name": "python"
  }
 },
 "nbformat": 4,
 "nbformat_minor": 5
}
