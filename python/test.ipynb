{
 "cells": [
  {
   "cell_type": "markdown",
   "id": "b2a51051",
   "metadata": {},
   "source": [
    "# Test function"
   ]
  },
  {
   "cell_type": "markdown",
   "id": "4c36eb26",
   "metadata": {},
   "source": [
    "Eventually I hope to be able to write an article about the topics I learned about doing that assessment. A lot of text wrangling but it was fun and interesting!"
   ]
  },
  {
   "cell_type": "markdown",
   "id": "30227266",
   "metadata": {},
   "source": [
    "Further topics to look into:\n",
    "\n",
    "* Analysis of Unstructured Data\n",
    "* Categorical Data Analysis\n",
    "* Survey Data Analysis\n"
   ]
  },
  {
   "cell_type": "markdown",
   "id": "e268b114",
   "metadata": {},
   "source": [
    "# Outline for tomorrow (5.25.2025)\n",
    "\n"
   ]
  },
  {
   "cell_type": "markdown",
   "id": "75169d4d",
   "metadata": {},
   "source": [
    "* Find way to combine factors (much better / better / slightly better) into one measure for easier comparison and possible z score testing"
   ]
  },
  {
   "cell_type": "code",
   "execution_count": 1,
   "id": "f4552553",
   "metadata": {},
   "outputs": [
    {
     "name": "stdout",
     "output_type": "stream",
     "text": [
      "--- Feature 1: Testing if 'X is better' > 50.0% ---\n",
      "Observed proportion: 0.636\n",
      "Z-statistic: 2.973\n",
      "P-value: 0.001\n",
      "Conclusion: For Feature 1, the proportion choosing 'X is better' (63.6%) is significantly greater than 50.0%.\n",
      "----------------------------------------\n",
      "--- Feature 2: Testing if 'X is better' > 50.0% ---\n",
      "Observed proportion: 0.754\n",
      "Z-statistic: 6.719\n",
      "P-value: 0.000\n",
      "Conclusion: For Feature 2, the proportion choosing 'X is better' (75.4%) is significantly greater than 50.0%.\n"
     ]
    }
   ],
   "source": [
    "from statsmodels.stats.proportion import proportions_ztest\n",
    "import numpy as np\n",
    "\n",
    "# Data for Feature 1\n",
    "count_f1 = 70  # Number who said \"X is better\" for Feature 1\n",
    "nobs_f1 = 110  # Total responses for Feature 1\n",
    "hypothesized_prop_f1 = 0.5 # Testing if it's significantly more than 50%\n",
    "\n",
    "# Perform one-sample z-test for Feature 1 (one-sided: greater)\n",
    "stat_f1, p_value_f1 = proportions_ztest(count_f1, nobs_f1, value=hypothesized_prop_f1, alternative='larger')\n",
    "\n",
    "print(f\"--- Feature 1: Testing if 'X is better' > {hypothesized_prop_f1*100}% ---\")\n",
    "print(f\"Observed proportion: {count_f1/nobs_f1:.3f}\")\n",
    "print(f\"Z-statistic: {stat_f1:.3f}\")\n",
    "print(f\"P-value: {p_value_f1:.3f}\")\n",
    "\n",
    "if p_value_f1 < 0.05: # Assuming alpha = 0.05\n",
    "    print(f\"Conclusion: For Feature 1, the proportion choosing 'X is better' ({count_f1/nobs_f1:.1%}) is significantly greater than {hypothesized_prop_f1*100}%.\")\n",
    "else:\n",
    "    print(f\"Conclusion: For Feature 1, there is not enough evidence to say the proportion choosing 'X is better' ({count_f1/nobs_f1:.1%}) is significantly greater than {hypothesized_prop_f1*100}%.\")\n",
    "\n",
    "print(\"-\" * 40)\n",
    "\n",
    "# Data for Feature 2\n",
    "count_f2 = 98  # Number who said \"X is better\" for Feature 2\n",
    "nobs_f2 = 130  # Total responses for Feature 2\n",
    "hypothesized_prop_f2 = 0.5 # Testing if it's significantly more than 50%\n",
    "\n",
    "# Perform one-sample z-test for Feature 2 (one-sided: greater)\n",
    "stat_f2, p_value_f2 = proportions_ztest(count_f2, nobs_f2, value=hypothesized_prop_f2, alternative='larger')\n",
    "\n",
    "print(f\"--- Feature 2: Testing if 'X is better' > {hypothesized_prop_f2*100}% ---\")\n",
    "print(f\"Observed proportion: {count_f2/nobs_f2:.3f}\")\n",
    "print(f\"Z-statistic: {stat_f2:.3f}\")\n",
    "print(f\"P-value: {p_value_f2:.3f}\")\n",
    "\n",
    "if p_value_f2 < 0.05: # Assuming alpha = 0.05\n",
    "    print(f\"Conclusion: For Feature 2, the proportion choosing 'X is better' ({count_f2/nobs_f2:.1%}) is significantly greater than {hypothesized_prop_f2*100}%.\")\n",
    "else:\n",
    "    print(f\"Conclusion: For Feature 2, there is not enough evidence to say the proportion choosing 'X is better' ({count_f2/nobs_f2:.1%}) is significantly greater than {hypothesized_prop_f2*100}%.\")"
   ]
  },
  {
   "cell_type": "markdown",
   "id": "3e2b670f",
   "metadata": {},
   "source": [
    "# Combine more functionality\n",
    "\n",
    "* Do entire analysis from a single subset dataframe (creation of df, crosstab, split on simple/hyper prompts)\n",
    "* Chi sq and z test - be sure to review what they mean\n",
    "* Double check that we are covering all cases/subcases "
   ]
  },
  {
   "cell_type": "markdown",
   "id": "9b7dd22c",
   "metadata": {},
   "source": [
    "# For tomorrow 5.26.2025\n",
    "\n"
   ]
  },
  {
   "cell_type": "markdown",
   "id": "abfa0b57",
   "metadata": {},
   "source": [
    "# 5.27.2025\n",
    "\n",
    "* Make sure the dataframes can be subset by the relevant values from the z test (done)\n",
    "\n",
    "* Set up pipeline (finishing)\n",
    "\n",
    "* Set up each dataframe (1-5) and run the analysis, pointing out common factors that are statistically relevant (finishing)\n",
    "\n",
    "* double check v7 function and ensure that it generates a dataframe of counts and sentiments for the statistically significant responses\n",
    "\n",
    "* Make sure the output generated is readable and saved to a file (html, pdf or other)\n",
    "\n",
    "* Point out strengths and weaknesses of each model and areas for further improvement"
   ]
  },
  {
   "cell_type": "markdown",
   "id": "62bca8bb",
   "metadata": {},
   "source": [
    "# 5.28.2025"
   ]
  },
  {
   "cell_type": "markdown",
   "id": "8698ed67",
   "metadata": {},
   "source": [
    "* get the pipeline function to work lol\n",
    "* make sure it works for ALL 5 partitions and the output is formatted nicely for each of the 5 subsets\n",
    "* if time, improve the aspect extractor\n",
    "* dig into the necessity and interpretation of the chisq tests"
   ]
  },
  {
   "cell_type": "code",
   "execution_count": null,
   "id": "fb3e8d4a",
   "metadata": {},
   "outputs": [],
   "source": []
  },
  {
   "cell_type": "markdown",
   "id": "da2417e2",
   "metadata": {},
   "source": [
    "# 5.29.2025"
   ]
  },
  {
   "cell_type": "markdown",
   "id": "c8de6950",
   "metadata": {},
   "source": [
    "* I think my reporting functions are actually working ok and i need to make sure that the sentiment analyzer is working more correctly, because I think that is why i'n not happy with things yet\n",
    "\n",
    "* Figure out how to streamline the analysis and insert more detail into the various parts\n",
    "\n"
   ]
  },
  {
   "cell_type": "markdown",
   "id": "28fc1df1",
   "metadata": {},
   "source": [
    "unrelated but remember to complete that medica thing so you dont have to pay individually every month"
   ]
  },
  {
   "cell_type": "markdown",
   "id": "3e024714",
   "metadata": {},
   "source": [
    "# 5.31.2025"
   ]
  },
  {
   "cell_type": "markdown",
   "id": "905571f7",
   "metadata": {},
   "source": [
    "* checked subset, all prompt types accounted for\n",
    "* try to build the best sentiment system possible for the inputs - finish up tomorrow - promising results with pretrained\n",
    "* fix plotting of Aspect - weird black line appears on some graphs\n",
    "* reinforce the need for the chi square and z tests and why they are useful for showing significance\n",
    "* start writing report"
   ]
  },
  {
   "cell_type": "markdown",
   "id": "b2ae8d10",
   "metadata": {},
   "source": [
    "# 6.1.2025"
   ]
  },
  {
   "cell_type": "markdown",
   "id": "08201479",
   "metadata": {},
   "source": [
    "* work on report solely tomorrow and then modify sentiment analyzers if additional time\n",
    "* fix plotting of Aspect - weird black line appears on some graphs DONE\n",
    "* reinforce the need for the chi square and z tests and why they are useful for showing significance\n",
    "* start writing report"
   ]
  },
  {
   "cell_type": "code",
   "execution_count": null,
   "id": "419c8a01",
   "metadata": {},
   "outputs": [],
   "source": []
  },
  {
   "cell_type": "markdown",
   "id": "1f01d433",
   "metadata": {},
   "source": [
    "# 6.2.2025\n",
    "\n",
    "* add the ability to extract the significant columns and print them out in the report\n",
    "\n",
    "* reinforce the need for the chi square and z tests and why they are useful for showing significance\n",
    "* start writing report\n",
    "* "
   ]
  },
  {
   "cell_type": "markdown",
   "id": "3c07dc96",
   "metadata": {},
   "source": [
    "# 6.3.2025\n",
    "\n",
    "* continue working on report (finish explaining how z test works)\n",
    "\n",
    "* explain results (significant rows and columns)\n",
    "\n",
    "* add areas for improvement and outline plan for future work (next weeks and months) in appendix "
   ]
  },
  {
   "cell_type": "markdown",
   "id": "5803080f",
   "metadata": {},
   "source": [
    "# 6.5.2025\n",
    "\n",
    "* finish up sentiment extractor (finalized version includes )\n",
    "\n",
    "* add conclusions and areas for further improvement\n",
    "\n",
    "* add outputs of sentiment analysis (plots sorted by frequency)\n",
    "\n",
    "* appendix - future work"
   ]
  },
  {
   "cell_type": "markdown",
   "id": "07fc151d",
   "metadata": {},
   "source": [
    "# 6.7.2025\n",
    "\n",
    "* take screenshots of the output, if necessary\n",
    "\n"
   ]
  },
  {
   "cell_type": "markdown",
   "id": "84653ccc",
   "metadata": {},
   "source": [
    "# 6.8.2025 \n",
    "\n",
    "* Finish writing report, possibly submit or sit on it until monday\n",
    "\n",
    "* Finalize references, conclusion, and appendix\n",
    "\n"
   ]
  },
  {
   "cell_type": "markdown",
   "id": "653c29ab",
   "metadata": {},
   "source": [
    "# for 6.13.2025\n",
    "\n",
    "* Start regular work on contract site again (maybe in a few days lol)\n",
    "* prepare for interview like they are going to want me to continue in process\n",
    "* print out Huberman article about dopamine system (done)\n",
    "* print out notecards and make sure to create note cards about p-value, confidence interval, type 1 and 2 errors, power, ttest, anova, ztest, chisquare test, regression (linear, logistic, poisson), Bayesian statistics basics\n",
    "* add ztest, chisq, bayesian, other forms of regression, explain power better"
   ]
  },
  {
   "cell_type": "markdown",
   "id": "b338e0f7",
   "metadata": {},
   "source": []
  }
 ],
 "metadata": {
  "kernelspec": {
   "display_name": "dev",
   "language": "python",
   "name": "python3"
  },
  "language_info": {
   "codemirror_mode": {
    "name": "ipython",
    "version": 3
   },
   "file_extension": ".py",
   "mimetype": "text/x-python",
   "name": "python",
   "nbconvert_exporter": "python",
   "pygments_lexer": "ipython3",
   "version": "3.10.13"
  }
 },
 "nbformat": 4,
 "nbformat_minor": 5
}
