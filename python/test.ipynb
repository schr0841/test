{
 "cells": [
  {
   "cell_type": "markdown",
   "id": "b2a51051",
   "metadata": {},
   "source": [
    "# Test function"
   ]
  },
  {
   "cell_type": "markdown",
   "id": "4c36eb26",
   "metadata": {},
   "source": [
    "Eventually I hope to be able to write an article about the topics I learned about doing that assessment. A lot of text wrangling but it was fun and interesting!"
   ]
  },
  {
   "cell_type": "markdown",
   "id": "30227266",
   "metadata": {},
   "source": [
    "Further topics to look into:\n",
    "\n",
    "* Analysis of Unstructured Data\n",
    "* Categorical Data Analysis\n",
    "* Survey Data Analysis\n"
   ]
  },
  {
   "cell_type": "markdown",
   "id": "e268b114",
   "metadata": {},
   "source": [
    "# Outline for tomorrow\n",
    "\n"
   ]
  },
  {
   "cell_type": "markdown",
   "id": "75169d4d",
   "metadata": {},
   "source": [
    "* Find way to combine factors (much better / better / slightly better) into one measure for easier comparison and possible z score testing"
   ]
  },
  {
   "cell_type": "code",
   "execution_count": 1,
   "id": "f4552553",
   "metadata": {},
   "outputs": [
    {
     "name": "stdout",
     "output_type": "stream",
     "text": [
      "--- Feature 1: Testing if 'X is better' > 50.0% ---\n",
      "Observed proportion: 0.636\n",
      "Z-statistic: 2.973\n",
      "P-value: 0.001\n",
      "Conclusion: For Feature 1, the proportion choosing 'X is better' (63.6%) is significantly greater than 50.0%.\n",
      "----------------------------------------\n",
      "--- Feature 2: Testing if 'X is better' > 50.0% ---\n",
      "Observed proportion: 0.754\n",
      "Z-statistic: 6.719\n",
      "P-value: 0.000\n",
      "Conclusion: For Feature 2, the proportion choosing 'X is better' (75.4%) is significantly greater than 50.0%.\n"
     ]
    }
   ],
   "source": [
    "from statsmodels.stats.proportion import proportions_ztest\n",
    "import numpy as np\n",
    "\n",
    "# Data for Feature 1\n",
    "count_f1 = 70  # Number who said \"X is better\" for Feature 1\n",
    "nobs_f1 = 110  # Total responses for Feature 1\n",
    "hypothesized_prop_f1 = 0.5 # Testing if it's significantly more than 50%\n",
    "\n",
    "# Perform one-sample z-test for Feature 1 (one-sided: greater)\n",
    "stat_f1, p_value_f1 = proportions_ztest(count_f1, nobs_f1, value=hypothesized_prop_f1, alternative='larger')\n",
    "\n",
    "print(f\"--- Feature 1: Testing if 'X is better' > {hypothesized_prop_f1*100}% ---\")\n",
    "print(f\"Observed proportion: {count_f1/nobs_f1:.3f}\")\n",
    "print(f\"Z-statistic: {stat_f1:.3f}\")\n",
    "print(f\"P-value: {p_value_f1:.3f}\")\n",
    "\n",
    "if p_value_f1 < 0.05: # Assuming alpha = 0.05\n",
    "    print(f\"Conclusion: For Feature 1, the proportion choosing 'X is better' ({count_f1/nobs_f1:.1%}) is significantly greater than {hypothesized_prop_f1*100}%.\")\n",
    "else:\n",
    "    print(f\"Conclusion: For Feature 1, there is not enough evidence to say the proportion choosing 'X is better' ({count_f1/nobs_f1:.1%}) is significantly greater than {hypothesized_prop_f1*100}%.\")\n",
    "\n",
    "print(\"-\" * 40)\n",
    "\n",
    "# Data for Feature 2\n",
    "count_f2 = 98  # Number who said \"X is better\" for Feature 2\n",
    "nobs_f2 = 130  # Total responses for Feature 2\n",
    "hypothesized_prop_f2 = 0.5 # Testing if it's significantly more than 50%\n",
    "\n",
    "# Perform one-sample z-test for Feature 2 (one-sided: greater)\n",
    "stat_f2, p_value_f2 = proportions_ztest(count_f2, nobs_f2, value=hypothesized_prop_f2, alternative='larger')\n",
    "\n",
    "print(f\"--- Feature 2: Testing if 'X is better' > {hypothesized_prop_f2*100}% ---\")\n",
    "print(f\"Observed proportion: {count_f2/nobs_f2:.3f}\")\n",
    "print(f\"Z-statistic: {stat_f2:.3f}\")\n",
    "print(f\"P-value: {p_value_f2:.3f}\")\n",
    "\n",
    "if p_value_f2 < 0.05: # Assuming alpha = 0.05\n",
    "    print(f\"Conclusion: For Feature 2, the proportion choosing 'X is better' ({count_f2/nobs_f2:.1%}) is significantly greater than {hypothesized_prop_f2*100}%.\")\n",
    "else:\n",
    "    print(f\"Conclusion: For Feature 2, there is not enough evidence to say the proportion choosing 'X is better' ({count_f2/nobs_f2:.1%}) is significantly greater than {hypothesized_prop_f2*100}%.\")"
   ]
  },
  {
   "cell_type": "markdown",
   "id": "3e2b670f",
   "metadata": {},
   "source": [
    "# Combine more functionality\n",
    "\n",
    "* Do entire analysis from a single subset dataframe (creation of df, crosstab, split on simple/hyper prompts)\n",
    "* Chi sq and z test - be sure to review what they mean\n",
    "* Double check that we are covering all cases/subcases "
   ]
  },
  {
   "cell_type": "markdown",
   "id": "9b7dd22c",
   "metadata": {},
   "source": [
    "# For tomorrow 5.26.2025\n",
    "\n",
    "* Make sure the dataframes can be subset by the relevant values from the z test\n",
    "\n",
    "* Set up pipeline\n",
    "\n",
    "* Set up each dataframe (1-5) and run the analysis, pointing out common factors that are statistically relevant\n",
    "\n",
    "* Point out strengths and weaknesses of each model and areas for further improvement"
   ]
  },
  {
   "cell_type": "markdown",
   "id": "b338e0f7",
   "metadata": {},
   "source": []
  }
 ],
 "metadata": {
  "kernelspec": {
   "display_name": "dev",
   "language": "python",
   "name": "python3"
  },
  "language_info": {
   "codemirror_mode": {
    "name": "ipython",
    "version": 3
   },
   "file_extension": ".py",
   "mimetype": "text/x-python",
   "name": "python",
   "nbconvert_exporter": "python",
   "pygments_lexer": "ipython3",
   "version": "3.10.13"
  }
 },
 "nbformat": 4,
 "nbformat_minor": 5
}
