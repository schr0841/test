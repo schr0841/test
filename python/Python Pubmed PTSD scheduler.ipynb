{
 "cells": [
  {
   "cell_type": "markdown",
   "id": "87a56b0d",
   "metadata": {},
   "source": [
    "Prompt: i want to keep up to date on the newest research in trauma therapy, ptsd and cptsd. I believe that searching pubmed is one way to do this, but I would like to write a script to automate it so I don't have to rewrite the queries every time. I would like to search once a month, and then get a list of the 5 most relevant/popular articles about that topic. is it possible to write a python program to do this? do they have an api? or do you recommend some other way"
   ]
  },
  {
   "cell_type": "markdown",
   "id": "fc77da8d",
   "metadata": {},
   "source": [
    "Yes, it’s absolutely possible to automate this with Python using the **NCBI Entrez API**, which PubMed provides via their [E-utilities](https://www.ncbi.nlm.nih.gov/books/NBK25501/). You can use the `Bio.Entrez` module from the Biopython library to query PubMed and retrieve metadata like article titles, authors, and links.\n",
    "\n",
    "Here's a basic example script to:\n",
    "\n",
    "* Query PubMed for trauma therapy, PTSD, and CPTSD.\n",
    "* Retrieve metadata for the top 5 most relevant or recent articles.\n",
    "* Output titles and links.\n",
    "\n",
    "### Step 1: Install Biopython\n",
    "\n",
    "```bash\n",
    "pip install biopython\n",
    "```\n",
    "\n",
    "### Step 2: Example Script\n",
    "\n",
    "\n"
   ]
  },
  {
   "cell_type": "code",
   "execution_count": null,
   "id": "02dc8ce7",
   "metadata": {},
   "outputs": [],
   "source": [
    "from Bio import Entrez\n",
    "from datetime import datetime\n",
    "\n",
    "# Set your email (required by NCBI)\n",
    "Entrez.email = \"your_email@example.com\"\n",
    "\n",
    "def search_pubmed(query, max_results=5):\n",
    "    handle = Entrez.esearch(\n",
    "        db=\"pubmed\",\n",
    "        term=query,\n",
    "        retmax=max_results,\n",
    "        sort=\"relevance\",\n",
    "        datetype=\"pdat\",  # use publication date\n",
    "        reldate=30        # last 30 days\n",
    "    )\n",
    "    record = Entrez.read(handle)\n",
    "    handle.close()\n",
    "    return record['IdList']\n",
    "\n",
    "def fetch_details(id_list):\n",
    "    ids = \",\".join(id_list)\n",
    "    handle = Entrez.efetch(db=\"pubmed\", id=ids, retmode=\"xml\")\n",
    "    records = Entrez.read(handle)\n",
    "    handle.close()\n",
    "    return records\n",
    "\n",
    "def format_results(records):\n",
    "    for i, article in enumerate(records['PubmedArticle']):\n",
    "        title = article['MedlineCitation']['Article']['ArticleTitle']\n",
    "        authors = article['MedlineCitation']['Article'].get('AuthorList', [])\n",
    "        pub_date = article['MedlineCitation']['Article']['Journal']['JournalIssue']['PubDate']\n",
    "        article_id = article['MedlineCitation']['PMID']\n",
    "        link = f\"https://pubmed.ncbi.nlm.nih.gov/{article_id}/\"\n",
    "\n",
    "        author_names = ', '.join(\n",
    "            [f\"{a['ForeName']} {a['LastName']}\" for a in authors if 'ForeName' in a and 'LastName' in a]\n",
    "        )\n",
    "        print(f\"{i+1}. {title}\")\n",
    "        print(f\"   Authors: {author_names}\")\n",
    "        print(f\"   Published: {pub_date}\")\n",
    "        print(f\"   Link: {link}\\n\")\n",
    "\n",
    "if __name__ == \"__main__\":\n",
    "    query = \"trauma therapy OR PTSD OR CPTSD\"\n",
    "    ids = search_pubmed(query)\n",
    "    if ids:\n",
    "        articles = fetch_details(ids)\n",
    "        format_results(articles)\n",
    "    else:\n",
    "        print(\"No new articles found.\")"
   ]
  },
  {
   "cell_type": "markdown",
   "id": "d234ca43",
   "metadata": {},
   "source": [
    "\n",
    "### Features to Extend\n",
    "\n",
    "* Save results to a CSV or HTML report.\n",
    "* Schedule it monthly using `cron` (Linux/macOS) or Task Scheduler (Windows).\n",
    "* Add email delivery via `smtplib`.\n",
    "\n",
    "Would you like help turning this into a monthly automation or outputting results into a file or email?"
   ]
  },
  {
   "cell_type": "markdown",
   "id": "2e0a223b",
   "metadata": {},
   "source": [
    "# Updated script to exclude results already seen"
   ]
  },
  {
   "cell_type": "code",
   "execution_count": null,
   "id": "b279f7f3",
   "metadata": {},
   "outputs": [],
   "source": []
  }
 ],
 "metadata": {
  "language_info": {
   "name": "python"
  }
 },
 "nbformat": 4,
 "nbformat_minor": 5
}
