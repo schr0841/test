{
 "cells": [
  {
   "cell_type": "markdown",
   "metadata": {},
   "source": [
    "# Python Datetime Converter"
   ]
  },
  {
   "cell_type": "code",
   "execution_count": 1,
   "metadata": {},
   "outputs": [
    {
     "name": "stdout",
     "output_type": "stream",
     "text": [
      "1748790000\n"
     ]
    }
   ],
   "source": [
    "import datetime\n",
    "import time\n",
    "\n",
    "# Example: Travel date is June 1, 2025, 10:00 AM local time (replace with your desired date and timezone)\n",
    "travel_date = datetime.datetime(2025, 6, 1, 10, 0, 0)\n",
    "#If the travel date is in a timezone other than UTC, then it must be converted to utc.\n",
    "utc_travel_date = travel_date.astimezone(datetime.timezone.utc)\n",
    "unix_timestamp = int(utc_travel_date.timestamp())\n",
    "\n",
    "print(unix_timestamp)"
   ]
  },
  {
   "cell_type": "markdown",
   "metadata": {},
   "source": [
    "## Convert unix datetime to python date "
   ]
  },
  {
   "cell_type": "code",
   "execution_count": 5,
   "metadata": {},
   "outputs": [
    {
     "name": "stdout",
     "output_type": "stream",
     "text": [
      "2025-03-14 20:15:00\n"
     ]
    }
   ],
   "source": [
    "import datetime\n",
    "\n",
    "unix_timestamp = 1741983300 # Example timestamp\n",
    "datetime_object = datetime.datetime.utcfromtimestamp(unix_timestamp)\n",
    "\n",
    "print(datetime_object)"
   ]
  },
  {
   "cell_type": "markdown",
   "metadata": {},
   "source": [
    "Here's how to convert a Unix timestamp to a UTC datetime object:"
   ]
  },
  {
   "cell_type": "code",
   "execution_count": 1,
   "metadata": {},
   "outputs": [
    {
     "name": "stdout",
     "output_type": "stream",
     "text": [
      "2025-03-03 02:00:00\n"
     ]
    }
   ],
   "source": [
    "import datetime\n",
    "\n",
    "unix_timestamp = 1740967200\n",
    "\n",
    "# Convert to UTC datetime\n",
    "utc_datetime = datetime.datetime.utcfromtimestamp(unix_timestamp)\n",
    "\n",
    "print(utc_datetime)"
   ]
  },
  {
   "cell_type": "markdown",
   "metadata": {},
   "source": [
    "If you need to convert to another time zone, you can use the pytz library:"
   ]
  },
  {
   "cell_type": "code",
   "execution_count": 2,
   "metadata": {},
   "outputs": [
    {
     "name": "stdout",
     "output_type": "stream",
     "text": [
      "2025-03-02 21:00:00-05:00\n"
     ]
    }
   ],
   "source": [
    "import datetime\n",
    "import pytz\n",
    "\n",
    "unix_timestamp = 1740967200\n",
    "\n",
    "# Convert to a specific time zone (e.g., 'America/New_York')\n",
    "timezone = pytz.timezone('America/New_York')\n",
    "datetime_object = datetime.datetime.fromtimestamp(unix_timestamp, tz=timezone)\n",
    "\n",
    "print(datetime_object)"
   ]
  },
  {
   "cell_type": "code",
   "execution_count": null,
   "metadata": {},
   "outputs": [],
   "source": []
  }
 ],
 "metadata": {
  "kernelspec": {
   "display_name": "dev",
   "language": "python",
   "name": "python3"
  },
  "language_info": {
   "codemirror_mode": {
    "name": "ipython",
    "version": 3
   },
   "file_extension": ".py",
   "mimetype": "text/x-python",
   "name": "python",
   "nbconvert_exporter": "python",
   "pygments_lexer": "ipython3",
   "version": "3.10.13"
  }
 },
 "nbformat": 4,
 "nbformat_minor": 2
}
