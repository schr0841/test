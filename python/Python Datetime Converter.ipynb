{
 "cells": [
  {
   "cell_type": "markdown",
   "metadata": {},
   "source": [
    "# Python Datetime Converter"
   ]
  },
  {
   "cell_type": "code",
   "execution_count": 1,
   "metadata": {},
   "outputs": [
    {
     "name": "stdout",
     "output_type": "stream",
     "text": [
      "1748790000\n"
     ]
    }
   ],
   "source": [
    "import datetime\n",
    "import time\n",
    "\n",
    "# Example: Travel date is June 1, 2025, 10:00 AM local time (replace with your desired date and timezone)\n",
    "travel_date = datetime.datetime(2025, 6, 1, 10, 0, 0)\n",
    "#If the travel date is in a timezone other than UTC, then it must be converted to utc.\n",
    "utc_travel_date = travel_date.astimezone(datetime.timezone.utc)\n",
    "unix_timestamp = int(utc_travel_date.timestamp())\n",
    "\n",
    "print(unix_timestamp)"
   ]
  },
  {
   "cell_type": "markdown",
   "metadata": {},
   "source": [
    "## Convert unix datetime to python date "
   ]
  },
  {
   "cell_type": "code",
   "execution_count": 5,
   "metadata": {},
   "outputs": [
    {
     "name": "stdout",
     "output_type": "stream",
     "text": [
      "2025-03-14 20:15:00\n"
     ]
    }
   ],
   "source": [
    "import datetime\n",
    "\n",
    "unix_timestamp = 1741983300 # Example timestamp\n",
    "datetime_object = datetime.datetime.utcfromtimestamp(unix_timestamp)\n",
    "\n",
    "print(datetime_object)"
   ]
  },
  {
   "cell_type": "markdown",
   "metadata": {},
   "source": [
    "Here's how to convert a Unix timestamp to a UTC datetime object:"
   ]
  },
  {
   "cell_type": "code",
   "execution_count": 1,
   "metadata": {},
   "outputs": [
    {
     "name": "stdout",
     "output_type": "stream",
     "text": [
      "2025-03-03 02:00:00\n"
     ]
    }
   ],
   "source": [
    "import datetime\n",
    "\n",
    "unix_timestamp = 1740967200\n",
    "\n",
    "# Convert to UTC datetime\n",
    "utc_datetime = datetime.datetime.utcfromtimestamp(unix_timestamp)\n",
    "\n",
    "print(utc_datetime)"
   ]
  },
  {
   "cell_type": "markdown",
   "metadata": {},
   "source": [
    "If you need to convert to another time zone, you can use the pytz library:"
   ]
  },
  {
   "cell_type": "code",
   "execution_count": 2,
   "metadata": {},
   "outputs": [
    {
     "name": "stdout",
     "output_type": "stream",
     "text": [
      "2025-03-02 21:00:00-05:00\n"
     ]
    }
   ],
   "source": [
    "import datetime\n",
    "import pytz\n",
    "\n",
    "unix_timestamp = 1740967200\n",
    "\n",
    "# Convert to a specific time zone (e.g., 'America/New_York')\n",
    "timezone = pytz.timezone('America/New_York')\n",
    "datetime_object = datetime.datetime.fromtimestamp(unix_timestamp, tz=timezone)\n",
    "\n",
    "print(datetime_object)"
   ]
  },
  {
   "cell_type": "markdown",
   "metadata": {},
   "source": [
    "**Key Points**\n",
    "\n",
    "* **`datetime.datetime.fromtimestamp()`:**\n",
    "    * Converts a Unix timestamp to a local datetime object.\n",
    "* **`datetime.datetime.utcfromtimestamp()`:**\n",
    "    * Converts a Unix timestamp to a UTC datetime object.\n",
    "* **`pytz` library:**\n",
    "    * Provides extensive time zone support for Python. If you are going to be working with various timezones, this library is very helpful.\n",
    "* When using `fromtimestamp()` if the time zone argument `tz` is not provided, the returned datetime object is local to the system. If you want to make sure your datetimes are time zone aware, always apply a time zone.\n",
    "\n",
    "By using these methods, you can easily convert Unix timestamps to readable datetime objects in Python, ensuring accuracy and proper time zone handling.\n"
   ]
  },
  {
   "cell_type": "markdown",
   "metadata": {},
   "source": [
    "# Prompt \n",
    "\n",
    "I've seen some recent queries for Google Maps that were performed by a Gemini-like assistant that used dates like arrival_time=36000 which represents January 1, 1970, 10:00:00 UTC. This is incorrect, as the question wants current or recent information relative to today. Do you know why this might be happening?"
   ]
  },
  {
   "cell_type": "markdown",
   "metadata": {},
   "source": [
    "You've hit on a very important point about how language models and APIs interact, and why those incorrect `arrival_time` values might be appearing. Here's a breakdown of the potential causes:\n",
    "\n",
    "**1. \"Zero-Shot\" or Limited Context Issues:**\n",
    "\n",
    "* **Lack of Temporal Awareness:**\n",
    "    * Language models, even advanced ones, don't inherently possess a real-time, persistent sense of \"now.\" They rely on the data they were trained on. While they can understand the concept of time, they might struggle with dynamically generating accurate, current timestamps without explicit instructions or access to real-time clock data.\n",
    "    * If the model isn't explicitly told or doesn't correctly infer the \"current\" date, it might fall back to a default or placeholder value, such as the beginning of the Unix epoch.\n",
    "* **API Misinterpretation:**\n",
    "    * The model might misinterpret the prompt or the API's requirements. It might correctly identify that `arrival_time` needs a Unix timestamp but fail to generate a relevant one.\n",
    "    * It is possible that during training, or due to a bug, that the model has incorrectly associated the phrase \"arrival time\" with the value 36000.\n",
    "\n",
    "**2. API Integration Challenges:**\n",
    "\n",
    "* **Incorrect Function Calls:**\n",
    "    * When a language model interacts with an API, it needs to generate the correct function call with the right parameters. If there's an error in how it constructs the `arrival_time` value, it will produce an incorrect timestamp.\n",
    "* **Data Type Mismatches:**\n",
    "    * Although unlikely, there could be subtle data type mismatches or conversion errors between the language model's output and the API's input.\n",
    "\n",
    "**3. Training Data and Bias:**\n",
    "\n",
    "* **Data Skew:**\n",
    "    * If the training data used to build the language model contained a disproportionate number of examples with default or incorrect timestamps, the model might learn to reproduce those errors.\n",
    "* **Bias Towards Simplicity:**\n",
    "    * It is possible that during training, the simplest number that fits the data type parameters was used in examples.\n",
    "\n",
    "**4. Code Generation Errors:**\n",
    "\n",
    "* When a language model is generating code to call an API, especially when that code is generated on the fly, there is the potential for errors to occur.\n",
    "* If the code responsible for getting the current time and converting it to a unix timestamp has an error, then it is possible that default values, or zero values, are being returned.\n",
    "\n",
    "**How to Mitigate This:**\n",
    "\n",
    "* **Explicit Date/Time Prompts:**\n",
    "    * When using language models for time-sensitive tasks, provide very clear and explicit instructions about the desired date and time.\n",
    "* **Real-Time Clock Access:**\n",
    "    * Integrate the language model with a reliable source of real-time clock data.\n",
    "* **API Validation:**\n",
    "    * Implement robust validation checks on the generated API calls to ensure that the timestamps are within a reasonable range.\n",
    "* **Fine-Tuning:**\n",
    "    * For specific use cases, fine-tune the language model on datasets that emphasize accurate time handling.\n",
    "* **Improved API Documentation and Examples:**\n",
    "    * Clearer API documentation and more examples of date and time handling would reduce the probability of errors.\n",
    "\n",
    "In essence, these errors highlight the ongoing challenges of bridging the gap between natural language understanding and precise API interactions. As language models continue to evolve, we can expect improvements in their ability to handle time-sensitive tasks accurately.\n"
   ]
  },
  {
   "cell_type": "markdown",
   "metadata": {},
   "source": [
    "# Prompt 2\n",
    "\n",
    "can you generate a python code example for each of the situations you mentioned?"
   ]
  },
  {
   "cell_type": "markdown",
   "metadata": {},
   "source": [
    "# Gemini Response\n",
    "\n",
    "Absolutely. Let's create Python code examples to illustrate the potential issues and mitigation strategies I mentioned:\n",
    "\n",
    "1. Lack of Temporal Awareness/API Misinterpretation (Example of the Problem)"
   ]
  },
  {
   "cell_type": "code",
   "execution_count": 3,
   "metadata": {},
   "outputs": [
    {
     "name": "stdout",
     "output_type": "stream",
     "text": [
      "{'error_message': 'The provided API key is invalid. ', 'routes': [], 'status': 'REQUEST_DENIED'}\n"
     ]
    }
   ],
   "source": [
    "import requests\n",
    "\n",
    "def get_directions_incorrect(origin, destination, arrival_time):\n",
    "    \"\"\"Incorrectly uses a fixed, old timestamp.\"\"\"\n",
    "    api_key = \"YOUR_GOOGLE_MAPS_API_KEY\"  # Replace with your API key\n",
    "    url = f\"https://maps.googleapis.com/maps/api/directions/json?origin={origin}&destination={destination}&arrival_time={arrival_time}&key={api_key}\"\n",
    "    response = requests.get(url)\n",
    "    return response.json()\n",
    "\n",
    "# Example usage (incorrect - using the old timestamp)\n",
    "result = get_directions_incorrect(\"New York\", \"Los Angeles\", 36000)\n",
    "print(result) #This will return directions for arrival at 10am 1970."
   ]
  },
  {
   "cell_type": "markdown",
   "metadata": {},
   "source": [
    "2. API Integration Challenges/Incorrect Function Calls (Example of the Problem)"
   ]
  },
  {
   "cell_type": "code",
   "execution_count": 4,
   "metadata": {},
   "outputs": [
    {
     "ename": "OSError",
     "evalue": "[Errno 22] Invalid argument",
     "output_type": "error",
     "traceback": [
      "\u001b[1;31m---------------------------------------------------------------------------\u001b[0m",
      "\u001b[1;31mOSError\u001b[0m                                   Traceback (most recent call last)",
      "Cell \u001b[1;32mIn[4], line 19\u001b[0m\n\u001b[0;32m     16\u001b[0m     response \u001b[38;5;241m=\u001b[39m requests\u001b[38;5;241m.\u001b[39mget(url)\n\u001b[0;32m     17\u001b[0m     \u001b[38;5;28;01mreturn\u001b[39;00m response\u001b[38;5;241m.\u001b[39mjson()\n\u001b[1;32m---> 19\u001b[0m result \u001b[38;5;241m=\u001b[39m \u001b[43mget_directions_incorrect_time\u001b[49m\u001b[43m(\u001b[49m\u001b[38;5;124;43m\"\u001b[39;49m\u001b[38;5;124;43mNew York\u001b[39;49m\u001b[38;5;124;43m\"\u001b[39;49m\u001b[43m,\u001b[49m\u001b[43m \u001b[49m\u001b[38;5;124;43m\"\u001b[39;49m\u001b[38;5;124;43mLos Angeles\u001b[39;49m\u001b[38;5;124;43m\"\u001b[39;49m\u001b[43m,\u001b[49m\u001b[43m \u001b[49m\u001b[38;5;124;43m\"\u001b[39;49m\u001b[38;5;124;43m10:00\u001b[39;49m\u001b[38;5;124;43m\"\u001b[39;49m\u001b[43m)\u001b[49m\n\u001b[0;32m     20\u001b[0m \u001b[38;5;28mprint\u001b[39m(result)\n",
      "Cell \u001b[1;32mIn[4], line 10\u001b[0m, in \u001b[0;36mget_directions_incorrect_time\u001b[1;34m(origin, destination, arrival_time_str)\u001b[0m\n\u001b[0;32m      7\u001b[0m \u001b[38;5;28;01mtry\u001b[39;00m:\n\u001b[0;32m      8\u001b[0m     \u001b[38;5;66;03m# Incorrectly trying to parse a time string directly\u001b[39;00m\n\u001b[0;32m      9\u001b[0m     arrival_datetime \u001b[38;5;241m=\u001b[39m datetime\u001b[38;5;241m.\u001b[39mdatetime\u001b[38;5;241m.\u001b[39mstrptime(arrival_time_str, \u001b[38;5;124m\"\u001b[39m\u001b[38;5;124m%\u001b[39m\u001b[38;5;124mH:\u001b[39m\u001b[38;5;124m%\u001b[39m\u001b[38;5;124mM\u001b[39m\u001b[38;5;124m\"\u001b[39m)\n\u001b[1;32m---> 10\u001b[0m     unix_timestamp \u001b[38;5;241m=\u001b[39m \u001b[38;5;28mint\u001b[39m(\u001b[43marrival_datetime\u001b[49m\u001b[38;5;241;43m.\u001b[39;49m\u001b[43mtimestamp\u001b[49m\u001b[43m(\u001b[49m\u001b[43m)\u001b[49m) \u001b[38;5;66;03m#This will fail because the datetime object does not contain a date.\u001b[39;00m\n\u001b[0;32m     11\u001b[0m \u001b[38;5;28;01mexcept\u001b[39;00m \u001b[38;5;167;01mValueError\u001b[39;00m:\n\u001b[0;32m     12\u001b[0m     \u001b[38;5;28mprint\u001b[39m(\u001b[38;5;124m\"\u001b[39m\u001b[38;5;124mInvalid time format\u001b[39m\u001b[38;5;124m\"\u001b[39m)\n",
      "\u001b[1;31mOSError\u001b[0m: [Errno 22] Invalid argument"
     ]
    }
   ],
   "source": [
    "import requests\n",
    "import datetime\n",
    "\n",
    "def get_directions_incorrect_time(origin, destination, arrival_time_str):\n",
    "    \"\"\"Incorrectly attempts to parse a time string.\"\"\"\n",
    "    api_key = \"YOUR_GOOGLE_MAPS_API_KEY\"\n",
    "    try:\n",
    "        # Incorrectly trying to parse a time string directly\n",
    "        arrival_datetime = datetime.datetime.strptime(arrival_time_str, \"%H:%M\")\n",
    "        unix_timestamp = int(arrival_datetime.timestamp()) #This will fail because the datetime object does not contain a date.\n",
    "    except ValueError:\n",
    "        print(\"Invalid time format\")\n",
    "        return None\n",
    "\n",
    "    url = f\"https://maps.googleapis.com/maps/api/directions/json?origin={origin}&destination={destination}&arrival_time={unix_timestamp}&key={api_key}\"\n",
    "    response = requests.get(url)\n",
    "    return response.json()\n",
    "\n",
    "result = get_directions_incorrect_time(\"New York\", \"Los Angeles\", \"10:00\")\n",
    "print(result)"
   ]
  },
  {
   "cell_type": "markdown",
   "metadata": {},
   "source": [
    "3. Mitigation: Explicit Date/Time Prompts and Correct Timestamp Generation"
   ]
  },
  {
   "cell_type": "code",
   "execution_count": 5,
   "metadata": {},
   "outputs": [
    {
     "name": "stdout",
     "output_type": "stream",
     "text": [
      "{'error_message': 'The provided API key is invalid. ', 'routes': [], 'status': 'REQUEST_DENIED'}\n"
     ]
    }
   ],
   "source": [
    "import requests\n",
    "import datetime\n",
    "import pytz\n",
    "\n",
    "def get_directions_correct(origin, destination, arrival_date, arrival_time, timezone_str):\n",
    "    \"\"\"Correctly generates a Unix timestamp from a date and time.\"\"\"\n",
    "    api_key = \"YOUR_GOOGLE_MAPS_API_KEY\"\n",
    "    try:\n",
    "        timezone = pytz.timezone(timezone_str)\n",
    "        arrival_datetime = datetime.datetime.strptime(f\"{arrival_date} {arrival_time}\", \"%Y-%m-%d %H:%M\")\n",
    "        arrival_datetime_tz = timezone.localize(arrival_datetime)\n",
    "        utc_arrival_datetime = arrival_datetime_tz.astimezone(pytz.utc)\n",
    "        unix_timestamp = int(utc_arrival_datetime.timestamp())\n",
    "\n",
    "        url = f\"https://maps.googleapis.com/maps/api/directions/json?origin={origin}&destination={destination}&arrival_time={unix_timestamp}&key={api_key}\"\n",
    "        response = requests.get(url)\n",
    "        return response.json()\n",
    "    except (ValueError, pytz.exceptions.UnknownTimeZoneError) as e:\n",
    "        print(f\"Error: {e}\")\n",
    "        return None\n",
    "\n",
    "# Example usage (correct)\n",
    "result = get_directions_correct(\"New York\", \"Los Angeles\", \"2024-12-25\", \"10:00\", \"America/New_York\")\n",
    "print(result)"
   ]
  },
  {
   "cell_type": "code",
   "execution_count": null,
   "metadata": {},
   "outputs": [],
   "source": []
  }
 ],
 "metadata": {
  "kernelspec": {
   "display_name": "dev",
   "language": "python",
   "name": "python3"
  },
  "language_info": {
   "codemirror_mode": {
    "name": "ipython",
    "version": 3
   },
   "file_extension": ".py",
   "mimetype": "text/x-python",
   "name": "python",
   "nbconvert_exporter": "python",
   "pygments_lexer": "ipython3",
   "version": "3.10.13"
  }
 },
 "nbformat": 4,
 "nbformat_minor": 2
}
